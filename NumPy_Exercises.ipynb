{
 "cells": [
  {
   "cell_type": "markdown",
   "id": "62df9bce",
   "metadata": {},
   "source": [
    "## Understanding Axes in NumPy"
   ]
  },
  {
   "cell_type": "code",
   "execution_count": 6,
   "id": "3c39ac0a",
   "metadata": {},
   "outputs": [],
   "source": [
    "import numpy as np"
   ]
  },
  {
   "cell_type": "code",
   "execution_count": 7,
   "id": "1f2fe731",
   "metadata": {},
   "outputs": [
    {
     "name": "stdout",
     "output_type": "stream",
     "text": [
      "1D Array:\n",
      " [1 2 3 4]\n",
      "Sum (Axis 0): 10\n"
     ]
    }
   ],
   "source": [
    "# 1D Array\n",
    "arr_1d = np.array([1, 2, 3, 4])\n",
    "print(\"1D Array:\\n\", arr_1d)\n",
    "print(\"Sum (Axis 0):\",\n",
    "np.sum(arr_1d, axis=0))"
   ]
  },
  {
   "cell_type": "code",
   "execution_count": 13,
   "id": "4f25f4f0",
   "metadata": {},
   "outputs": [
    {
     "name": "stdout",
     "output_type": "stream",
     "text": [
      "2D Array:\n",
      " [[1 2 3]\n",
      " [4 5 6]]\n",
      "Sum (Axis 0): [5 7 9]\n",
      "Sum along columns (Axis 1): [ 6 15]\n",
      "Overall Sum: 21\n"
     ]
    }
   ],
   "source": [
    "# 2D Array\n",
    "arr_2d = np.array([1, 2, 3,4 , 5, 6]).reshape(2,3)\n",
    "print(\"2D Array:\\n\", arr_2d)\n",
    "print(\"Sum (Axis 0):\", np.sum(arr_2d, axis=0))\n",
    "print(\"Sum along columns (Axis 1):\",np.sum(arr_2d, axis=1))\n",
    "print(\"Overall Sum:\", np.sum(arr_2d))"
   ]
  },
  {
   "cell_type": "code",
   "execution_count": 14,
   "id": "0edbcd22",
   "metadata": {},
   "outputs": [
    {
     "name": "stdout",
     "output_type": "stream",
     "text": [
      "\n",
      "3D Array:\n",
      " [[[1 2]\n",
      "  [3 4]]\n",
      "\n",
      " [[5 6]\n",
      "  [7 8]]]\n",
      "Sum along depth (Axis 0):\n",
      " [[ 6  8]\n",
      " [10 12]]\n",
      "Sum along rows (Axis 1):\n",
      " [[ 4  6]\n",
      " [12 14]]\n",
      "Sum along columns (Axis 2):\n",
      " [[ 3  7]\n",
      " [11 15]]\n"
     ]
    }
   ],
   "source": [
    "## 3D Array\n",
    "arr_3d = np.array([[[1, 2], [3, 4]],\n",
    "                   [[5, 6], [7, 8]]])\n",
    "\n",
    "print(\"\\n3D Array:\\n\", arr_3d)\n",
    "print(\"Sum along depth (Axis 0):\\n\", np.sum(arr_3d, axis=0))\n",
    "print(\"Sum along rows (Axis 1):\\n\", np.sum(arr_3d, axis=1))\n",
    "print(\"Sum along columns (Axis 2):\\n\", np.sum(arr_3d, axis=2))"
   ]
  },
  {
   "cell_type": "code",
   "execution_count": null,
   "id": "dbf095f8",
   "metadata": {},
   "outputs": [],
   "source": []
  }
 ],
 "metadata": {
  "kernelspec": {
   "display_name": "Python 3 (ipykernel)",
   "language": "python",
   "name": "python3"
  },
  "language_info": {
   "codemirror_mode": {
    "name": "ipython",
    "version": 3
   },
   "file_extension": ".py",
   "mimetype": "text/x-python",
   "name": "python",
   "nbconvert_exporter": "python",
   "pygments_lexer": "ipython3",
   "version": "3.12.2"
  }
 },
 "nbformat": 4,
 "nbformat_minor": 5
}
